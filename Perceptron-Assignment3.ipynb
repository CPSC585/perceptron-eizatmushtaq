{
 "cells": [
  {
   "cell_type": "code",
   "execution_count": 11,
   "metadata": {},
   "outputs": [],
   "source": [
    "import numpy as np"
   ]
  },
  {
   "cell_type": "markdown",
   "metadata": {},
   "source": [
    "---\n",
    "# Generic class definitions for various operators/nodes"
   ]
  },
  {
   "cell_type": "code",
   "execution_count": 12,
   "metadata": {},
   "outputs": [],
   "source": [
    "class Node(object):\n",
    "    \"\"\"\n",
    "    Base object for all inputs and outputs.\n",
    "    \"\"\"\n",
    "    def __init__(self, value, grad):\n",
    "        self.value = value\n",
    "        self.gradient = grad"
   ]
  },
  {
   "cell_type": "code",
   "execution_count": 13,
   "metadata": {},
   "outputs": [],
   "source": [
    "class MultiplyNode(object):\n",
    "    \"\"\"\n",
    "    Multiplies two inputs\n",
    "    \"\"\"\n",
    "    def forward(self, x1, x2):\n",
    "        self.x1 = x1\n",
    "        self.x2 = x2\n",
    "        self.output = Node(self.x1.value * self.x2.value, 0)\n",
    "        return self.output\n",
    "    \n",
    "    def backward(self):\n",
    "        self.x1.gradient = self.x2.value * self.output.gradient\n",
    "        self.x2.gradient = self.x1.value * self.output.gradient"
   ]
  },
  {
   "cell_type": "code",
   "execution_count": 14,
   "metadata": {},
   "outputs": [],
   "source": [
    "class AddNode(object):    \n",
    "    \"\"\"\n",
    "    Adds two inputs x1 and x2.\n",
    "    \"\"\"\n",
    "    def forward(self, x1, x2):\n",
    "        self.x1 = x1\n",
    "        self.x2 = x2\n",
    "        self.output = Node(self.x1.value + self.x2.value, 0)\n",
    "        return self.output\n",
    "    \n",
    "    def backward(self):\n",
    "        self.x1.gradient = 1 * self.output.gradient\n",
    "        self.x2.gradient = 1 * self.output.gradient"
   ]
  },
  {
   "cell_type": "code",
   "execution_count": 15,
   "metadata": {},
   "outputs": [],
   "source": [
    "class SigmoidNode(object):\n",
    "    \"\"\"\n",
    "    Adds a sigmoid non-linearity to a single input\n",
    "    \"\"\"\n",
    "    def forward(self, x):\n",
    "        self.x = x\n",
    "        self.output = Node(1/(1 + np.exp(-1 * self.x.value)), 0.0)\n",
    "        return self.output\n",
    "        \n",
    "    def backward(self):\n",
    "        s = 1/(1 + np.exp(-1 * self.x.value))\n",
    "        self.x.gradient = (s * (1 - s)) * self.output.gradient"
   ]
  },
  {
   "cell_type": "code",
   "execution_count": 29,
   "metadata": {},
   "outputs": [],
   "source": [
    "class Perceptron(object):\n",
    "    def __init__(self, x1, x2, alpha=0.001):\n",
    "        ### Hyper parameters\n",
    "        self.alpha = alpha\n",
    "        ### Initializing weights/bias to a random float between -1 and 1.\n",
    "        self.w1 = Node(np.random.uniform(-1, 1), 0.0)\n",
    "        self.w2 = Node(np.random.uniform(-1, 1), 0.0)\n",
    "        self.w3 = Node(np.random.uniform(-1,1),0.0)\n",
    "        self.w4 = Node(np.random.uniform(-1,1),0.0)\n",
    "        self.b = Node(np.random.uniform(-1, 1), 0.0)\n",
    "        ### Input and Output variables\n",
    "        self.x1 = Node(x1, 0.0)\n",
    "        self.x2 = Node(x2, 0.0)\n",
    "        ### Initialize operators nodes required \n",
    "        ### for processing the inputs within a perceptron\n",
    "        self.initialize_operators()\n",
    "    \n",
    "    def initialize_operators(self):\n",
    "        self.w1_mul_x1 = MultiplyNode()\n",
    "        self.w2_mul_x2 = MultiplyNode()\n",
    "        self.w1x1_add_w2x2 = AddNode()\n",
    "        self.w1x1_w2x2_add_b = AddNode()\n",
    "        self.sigmoid = SigmoidNode()\n",
    "        self.sigmoid1 = SigmoidNode()\n",
    "        self.w3_mul_oih= MultiplyNode()\n",
    "        self.w4_mul_dummy = MultiplyNode()\n",
    "        self.w3_mul_ioh_add_w4_mul_dummy = AddNode()\n",
    "        self.w3_mul_ioh_add_w4_mul_dummy_b = AddNode()\n",
    "    \n",
    "    def forward(self):\n",
    "        w1x1 = self.w1_mul_x1.forward(self.w1, self.x1)\n",
    "        w2x2 = self.w2_mul_x2.forward(self.w2, self.x2)\n",
    "        w1x1_w2x2 = self.w1x1_add_w2x2.forward(w1x1, w2x2)\n",
    "        w1x1_w2x2_b = self.w1x1_w2x2_add_b.forward(w1x1_w2x2, self.b)\n",
    "        sigmoidlayer1=self.sigmoid.forward(w1x1_w2x2_b)\n",
    "        w3out1=self.w3_mul_oih.forward(self.w3,sigmoidlayer1)\n",
    "        w2out2=self.w4_mul_dummy.forward(self.w4,1)\n",
    "        w2out2_w3out3 = self.w3_mul_ioh_add_w4_mul_dummy.forward(w3out1,w2out2)\n",
    "        w2out2_w3out3_b=self.w3_mul_ioh_add_w4_mul_dummy_b.forward(w2out2_w3out3,self.b)\n",
    "        self.sigmoid1.forward(w3_mul_ioh_add_w4_mul_dummy_b)\n",
    "        \n",
    "        \n",
    "    def backward(self):\n",
    "        self.sigmoid1.backward()\n",
    "        w3_mul_ioh_add_w4_mul_dummy_b.backward()\n",
    "        w3_mul_ioh_add_w4_mul_dummy.backward()\n",
    "        w4_mul_dummy.backward()\n",
    "        w3_mul_oih.backward()\n",
    "        self.sigmoid.backward()\n",
    "        self.w1x1_w2x2_add_b.backward()\n",
    "        self.w1x1_add_w2x2.backward()\n",
    "        self.w2_mul_x2.backward()\n",
    "        self.w1_mul_x1.backward()\n",
    "    \n",
    "    def update(self):\n",
    "        self.w4.value -=self.aplha * self.w4.gradient\n",
    "        self.w3.value -=self.aplha * self.w3.gradient\n",
    "        self.w1.value -= self.alpha * self.w1.gradient\n",
    "        self.w2.value -= self.alpha * self.w2.gradient\n",
    "        self.b.value -= self.alpha * self.b.gradient"
   ]
  },
  {
   "cell_type": "markdown",
   "metadata": {},
   "source": [
    "### Validation"
   ]
  },
  {
   "cell_type": "code",
   "execution_count": 30,
   "metadata": {},
   "outputs": [
    {
     "ename": "AttributeError",
     "evalue": "'int' object has no attribute 'value'",
     "output_type": "error",
     "traceback": [
      "\u001b[0;31m---------------------------------------------------------------------------\u001b[0m",
      "\u001b[0;31mAttributeError\u001b[0m                            Traceback (most recent call last)",
      "\u001b[0;32m<ipython-input-30-5c8b6f9c5dbc>\u001b[0m in \u001b[0;36m<module>\u001b[0;34m()\u001b[0m\n\u001b[1;32m      7\u001b[0m \u001b[0;32mfor\u001b[0m \u001b[0mi\u001b[0m \u001b[0;32min\u001b[0m \u001b[0mrange\u001b[0m\u001b[0;34m(\u001b[0m\u001b[0mN\u001b[0m\u001b[0;34m)\u001b[0m\u001b[0;34m:\u001b[0m\u001b[0;34m\u001b[0m\u001b[0m\n\u001b[1;32m      8\u001b[0m     \u001b[0;31m# Step 1. Forward Pass\u001b[0m\u001b[0;34m\u001b[0m\u001b[0;34m\u001b[0m\u001b[0m\n\u001b[0;32m----> 9\u001b[0;31m     \u001b[0mp\u001b[0m\u001b[0;34m.\u001b[0m\u001b[0mforward\u001b[0m\u001b[0;34m(\u001b[0m\u001b[0;34m)\u001b[0m\u001b[0;34m\u001b[0m\u001b[0m\n\u001b[0m\u001b[1;32m     10\u001b[0m     \u001b[0;31m# Step 2. Calculate Loss. -2 * (y - output) is the gradient of output w.r.t\u001b[0m\u001b[0;34m\u001b[0m\u001b[0;34m\u001b[0m\u001b[0m\n\u001b[1;32m     11\u001b[0m     \u001b[0;31m# square loss function.\u001b[0m\u001b[0;34m\u001b[0m\u001b[0;34m\u001b[0m\u001b[0m\n",
      "\u001b[0;32m<ipython-input-29-e6e67d04de6d>\u001b[0m in \u001b[0;36mforward\u001b[0;34m(self)\u001b[0m\n\u001b[1;32m     35\u001b[0m         \u001b[0msigmoidlayer1\u001b[0m\u001b[0;34m=\u001b[0m\u001b[0mself\u001b[0m\u001b[0;34m.\u001b[0m\u001b[0msigmoid\u001b[0m\u001b[0;34m.\u001b[0m\u001b[0mforward\u001b[0m\u001b[0;34m(\u001b[0m\u001b[0mw1x1_w2x2_b\u001b[0m\u001b[0;34m)\u001b[0m\u001b[0;34m\u001b[0m\u001b[0m\n\u001b[1;32m     36\u001b[0m         \u001b[0mw3out1\u001b[0m\u001b[0;34m=\u001b[0m\u001b[0mself\u001b[0m\u001b[0;34m.\u001b[0m\u001b[0mw3_mul_oih\u001b[0m\u001b[0;34m.\u001b[0m\u001b[0mforward\u001b[0m\u001b[0;34m(\u001b[0m\u001b[0mself\u001b[0m\u001b[0;34m.\u001b[0m\u001b[0mw3\u001b[0m\u001b[0;34m,\u001b[0m\u001b[0msigmoidlayer1\u001b[0m\u001b[0;34m)\u001b[0m\u001b[0;34m\u001b[0m\u001b[0m\n\u001b[0;32m---> 37\u001b[0;31m         \u001b[0mw2out2\u001b[0m\u001b[0;34m=\u001b[0m\u001b[0mself\u001b[0m\u001b[0;34m.\u001b[0m\u001b[0mw4_mul_dummy\u001b[0m\u001b[0;34m.\u001b[0m\u001b[0mforward\u001b[0m\u001b[0;34m(\u001b[0m\u001b[0mself\u001b[0m\u001b[0;34m.\u001b[0m\u001b[0mw4\u001b[0m\u001b[0;34m,\u001b[0m\u001b[0;36m1\u001b[0m\u001b[0;34m)\u001b[0m\u001b[0;34m\u001b[0m\u001b[0m\n\u001b[0m\u001b[1;32m     38\u001b[0m         \u001b[0mw2out2_w3out3\u001b[0m \u001b[0;34m=\u001b[0m \u001b[0mself\u001b[0m\u001b[0;34m.\u001b[0m\u001b[0mw3_mul_ioh_add_w4_mul_dummy\u001b[0m\u001b[0;34m.\u001b[0m\u001b[0mforward\u001b[0m\u001b[0;34m(\u001b[0m\u001b[0mw3out1\u001b[0m\u001b[0;34m,\u001b[0m\u001b[0mw2out2\u001b[0m\u001b[0;34m)\u001b[0m\u001b[0;34m\u001b[0m\u001b[0m\n\u001b[1;32m     39\u001b[0m         \u001b[0mw2out2_w3out3_b\u001b[0m\u001b[0;34m=\u001b[0m\u001b[0mself\u001b[0m\u001b[0;34m.\u001b[0m\u001b[0mw3_mul_ioh_add_w4_mul_dummy_b\u001b[0m\u001b[0;34m.\u001b[0m\u001b[0mforward\u001b[0m\u001b[0;34m(\u001b[0m\u001b[0mw2out2_w3out3\u001b[0m\u001b[0;34m,\u001b[0m\u001b[0mself\u001b[0m\u001b[0;34m.\u001b[0m\u001b[0mb\u001b[0m\u001b[0;34m)\u001b[0m\u001b[0;34m\u001b[0m\u001b[0m\n",
      "\u001b[0;32m<ipython-input-13-c0d747337517>\u001b[0m in \u001b[0;36mforward\u001b[0;34m(self, x1, x2)\u001b[0m\n\u001b[1;32m      6\u001b[0m         \u001b[0mself\u001b[0m\u001b[0;34m.\u001b[0m\u001b[0mx1\u001b[0m \u001b[0;34m=\u001b[0m \u001b[0mx1\u001b[0m\u001b[0;34m\u001b[0m\u001b[0m\n\u001b[1;32m      7\u001b[0m         \u001b[0mself\u001b[0m\u001b[0;34m.\u001b[0m\u001b[0mx2\u001b[0m \u001b[0;34m=\u001b[0m \u001b[0mx2\u001b[0m\u001b[0;34m\u001b[0m\u001b[0m\n\u001b[0;32m----> 8\u001b[0;31m         \u001b[0mself\u001b[0m\u001b[0;34m.\u001b[0m\u001b[0moutput\u001b[0m \u001b[0;34m=\u001b[0m \u001b[0mNode\u001b[0m\u001b[0;34m(\u001b[0m\u001b[0mself\u001b[0m\u001b[0;34m.\u001b[0m\u001b[0mx1\u001b[0m\u001b[0;34m.\u001b[0m\u001b[0mvalue\u001b[0m \u001b[0;34m*\u001b[0m \u001b[0mself\u001b[0m\u001b[0;34m.\u001b[0m\u001b[0mx2\u001b[0m\u001b[0;34m.\u001b[0m\u001b[0mvalue\u001b[0m\u001b[0;34m,\u001b[0m \u001b[0;36m0\u001b[0m\u001b[0;34m)\u001b[0m\u001b[0;34m\u001b[0m\u001b[0m\n\u001b[0m\u001b[1;32m      9\u001b[0m         \u001b[0;32mreturn\u001b[0m \u001b[0mself\u001b[0m\u001b[0;34m.\u001b[0m\u001b[0moutput\u001b[0m\u001b[0;34m\u001b[0m\u001b[0m\n\u001b[1;32m     10\u001b[0m \u001b[0;34m\u001b[0m\u001b[0m\n",
      "\u001b[0;31mAttributeError\u001b[0m: 'int' object has no attribute 'value'"
     ]
    }
   ],
   "source": [
    "p = Perceptron(-1,1.0, alpha=0.1)\n",
    "# number of iterations\n",
    "N = 100000\n",
    "# expected output \n",
    "target = 0.3481972639817\n",
    "\n",
    "for i in range(N):\n",
    "    # Step 1. Forward Pass\n",
    "    p.forward()\n",
    "    # Step 2. Calculate Loss. -2 * (y - output) is the gradient of output w.r.t \n",
    "    # square loss function.\n",
    "    p.sigmoid.output.gradient = -2 * (target - p.sigmoid.output.value)\n",
    "    # Step 3. Backward Pass\n",
    "    p.backward()\n",
    "    # Step 4. Update Weights and Bias\n",
    "    p.update()\n",
    "\n",
    "p.sigmoid.output.value"
   ]
  },
  {
   "cell_type": "markdown",
   "metadata": {},
   "source": [
    "---\n",
    "\n",
    "# Assignment 3\n",
    "\n",
    "```\n",
    "X1 ------\\\n",
    "          \\\n",
    "          (P) ---- (P) ---- (T)\n",
    "          /\n",
    "X2 ------/\n",
    "         \n",
    "```\n",
    "\n",
    "1. Create a two layer neural network with one perceptron in each layer (see Diagram above). Write a validation code that does along with your implementation. The goal of network is to optimize the two perceptrons to produce the output target `T` given the inputs `X1` and `X2`. Assume the output `O` of each perceptron is\n",
    "\n",
    "$$ O = \\sigma{(w1*x1 + w2*x2 + b)} $$ where\n",
    "\n",
    "$$\\sigma(x) = \\frac{1}{1+e^{-x}}$$\n",
    "\n",
    "Feel free to change the loss function if you like.\n",
    "\n"
   ]
  },
  {
   "cell_type": "code",
   "execution_count": null,
   "metadata": {},
   "outputs": [],
   "source": []
  }
 ],
 "metadata": {
  "kernelspec": {
   "display_name": "Python 2",
   "language": "python",
   "name": "python2"
  },
  "language_info": {
   "codemirror_mode": {
    "name": "ipython",
    "version": 2
   },
   "file_extension": ".py",
   "mimetype": "text/x-python",
   "name": "python",
   "nbconvert_exporter": "python",
   "pygments_lexer": "ipython2",
   "version": "2.7.12"
  }
 },
 "nbformat": 4,
 "nbformat_minor": 2
}
